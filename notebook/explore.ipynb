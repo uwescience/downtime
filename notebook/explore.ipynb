{
 "cells": [
  {
   "cell_type": "markdown",
   "id": "a0f09136-4f4a-42ab-a45d-f64ad9f43697",
   "metadata": {},
   "source": [
    "# EXPLORE"
   ]
  },
  {
   "cell_type": "code",
   "execution_count": 39,
   "id": "11bca73d-e93a-4eb4-9210-b61e553d9bbf",
   "metadata": {},
   "outputs": [],
   "source": [
    "from pdfminer.pdfinterp import PDFResourceManager, PDFPageInterpreter\n",
    "from pdfminer.converter import TextConverter\n",
    "from pdfminer.layout import LAParams\n",
    "from pdfminer.pdfpage import PDFPage\n",
    "from io import StringIO\n",
    "import base64"
   ]
  },
  {
   "cell_type": "code",
   "execution_count": 2,
   "id": "cd0c2ab4-5221-4305-8d81-58e6c9ebfbe8",
   "metadata": {},
   "outputs": [],
   "source": [
    "PATH = \"/Users/jlheller/Downloads/304291 - UWM IP CARD ICU (CCU-CICU) ADMIT (UWMC-ML  UWMC-NW).pdf\""
   ]
  },
  {
   "cell_type": "code",
   "execution_count": 41,
   "id": "5b228c1d-4502-440b-be60-867cc00cf9df",
   "metadata": {},
   "outputs": [
    {
     "ename": "Error",
     "evalue": "Invalid base64-encoded string: number of data characters (1) cannot be 1 more than a multiple of 4",
     "output_type": "error",
     "traceback": [
      "\u001b[0;31m---------------------------------------------------------------------------\u001b[0m",
      "\u001b[0;31mError\u001b[0m                                     Traceback (most recent call last)",
      "Cell \u001b[0;32mIn[41], line 23\u001b[0m\n\u001b[1;32m     14\u001b[0m text \u001b[38;5;241m=\u001b[39m extract_text(\n\u001b[1;32m     15\u001b[0m     PATH,\n\u001b[1;32m     16\u001b[0m     laparams\u001b[38;5;241m=\u001b[39m\u001b[38;5;28;01mNone\u001b[39;00m,  \u001b[38;5;66;03m# Use None for default layout parameters or customize with LAParams()\u001b[39;00m\n\u001b[0;32m   (...)\u001b[0m\n\u001b[1;32m     19\u001b[0m     caching\u001b[38;5;241m=\u001b[39m\u001b[38;5;28;01mTrue\u001b[39;00m,   \u001b[38;5;66;03m# Enable caching to improve performance\u001b[39;00m\n\u001b[1;32m     20\u001b[0m )\n\u001b[1;32m     21\u001b[0m \u001b[38;5;66;03m# Encode the text as ASCII (ignore characters that can't be encoded)\u001b[39;00m\n\u001b[0;32m---> 23\u001b[0m text \u001b[38;5;241m=\u001b[39m \u001b[38;5;124m\"\u001b[39m\u001b[38;5;124m\"\u001b[39m\u001b[38;5;241m.\u001b[39mjoin([base64\u001b[38;5;241m.\u001b[39mb64decode(t) \u001b[38;5;28;01mfor\u001b[39;00m t \u001b[38;5;129;01min\u001b[39;00m text])\n\u001b[1;32m     24\u001b[0m \u001b[38;5;66;03m#extracted_text = ''.join(c for c in text if unicodedata.category(c).startswith('L'))\u001b[39;00m\n",
      "Cell \u001b[0;32mIn[41], line 23\u001b[0m, in \u001b[0;36m<listcomp>\u001b[0;34m(.0)\u001b[0m\n\u001b[1;32m     14\u001b[0m text \u001b[38;5;241m=\u001b[39m extract_text(\n\u001b[1;32m     15\u001b[0m     PATH,\n\u001b[1;32m     16\u001b[0m     laparams\u001b[38;5;241m=\u001b[39m\u001b[38;5;28;01mNone\u001b[39;00m,  \u001b[38;5;66;03m# Use None for default layout parameters or customize with LAParams()\u001b[39;00m\n\u001b[0;32m   (...)\u001b[0m\n\u001b[1;32m     19\u001b[0m     caching\u001b[38;5;241m=\u001b[39m\u001b[38;5;28;01mTrue\u001b[39;00m,   \u001b[38;5;66;03m# Enable caching to improve performance\u001b[39;00m\n\u001b[1;32m     20\u001b[0m )\n\u001b[1;32m     21\u001b[0m \u001b[38;5;66;03m# Encode the text as ASCII (ignore characters that can't be encoded)\u001b[39;00m\n\u001b[0;32m---> 23\u001b[0m text \u001b[38;5;241m=\u001b[39m \u001b[38;5;124m\"\u001b[39m\u001b[38;5;124m\"\u001b[39m\u001b[38;5;241m.\u001b[39mjoin([\u001b[43mbase64\u001b[49m\u001b[38;5;241;43m.\u001b[39;49m\u001b[43mb64decode\u001b[49m\u001b[43m(\u001b[49m\u001b[43mt\u001b[49m\u001b[43m)\u001b[49m \u001b[38;5;28;01mfor\u001b[39;00m t \u001b[38;5;129;01min\u001b[39;00m text])\n\u001b[1;32m     24\u001b[0m \u001b[38;5;66;03m#extracted_text = ''.join(c for c in text if unicodedata.category(c).startswith('L'))\u001b[39;00m\n",
      "File \u001b[0;32m/Library/Developer/CommandLineTools/Library/Frameworks/Python3.framework/Versions/3.9/lib/python3.9/base64.py:87\u001b[0m, in \u001b[0;36mb64decode\u001b[0;34m(s, altchars, validate)\u001b[0m\n\u001b[1;32m     85\u001b[0m \u001b[38;5;28;01mif\u001b[39;00m validate \u001b[38;5;129;01mand\u001b[39;00m \u001b[38;5;129;01mnot\u001b[39;00m re\u001b[38;5;241m.\u001b[39mfullmatch(\u001b[38;5;124mb\u001b[39m\u001b[38;5;124m'\u001b[39m\u001b[38;5;124m[A-Za-z0-9+/]*=\u001b[39m\u001b[38;5;124m{\u001b[39m\u001b[38;5;124m0,2}\u001b[39m\u001b[38;5;124m'\u001b[39m, s):\n\u001b[1;32m     86\u001b[0m     \u001b[38;5;28;01mraise\u001b[39;00m binascii\u001b[38;5;241m.\u001b[39mError(\u001b[38;5;124m'\u001b[39m\u001b[38;5;124mNon-base64 digit found\u001b[39m\u001b[38;5;124m'\u001b[39m)\n\u001b[0;32m---> 87\u001b[0m \u001b[38;5;28;01mreturn\u001b[39;00m \u001b[43mbinascii\u001b[49m\u001b[38;5;241;43m.\u001b[39;49m\u001b[43ma2b_base64\u001b[49m\u001b[43m(\u001b[49m\u001b[43ms\u001b[49m\u001b[43m)\u001b[49m\n",
      "\u001b[0;31mError\u001b[0m: Invalid base64-encoded string: number of data characters (1) cannot be 1 more than a multiple of 4"
     ]
    }
   ],
   "source": [
    "import unicodedata\n",
    "from pdfminer.high_level import extract_text\n",
    "\n",
    "# Basic usage - extracts text from all pages\n",
    "#text = extract_text(PATH)\n",
    "\n",
    "# Extract text from specific pages\n",
    "#text = extract_text(PATH, page_numbers=[0, 2])  # First and third page (0-indexed)\n",
    "\n",
    "# Set a password for encrypted PDFs\n",
    "#text = extract_text('encrypted.pdf', password='your_password')\n",
    "\n",
    "# Control text extraction parameters\n",
    "text = extract_text(\n",
    "    PATH,\n",
    "    laparams=None,  # Use None for default layout parameters or customize with LAParams()\n",
    "    codec='utf-8',  # Specify encoding\n",
    "    maxpages=0,     # 0 means all pages\n",
    "    caching=True,   # Enable caching to improve performance\n",
    ")\n",
    "# Encode the text as ASCII (ignore characters that can't be encoded)\n",
    "    \n",
    "text = \"\".join([base64.b64decode(t) for t in text])\n",
    "#extracted_text = ''.join(c for c in text if unicodedata.category(c).startswith('L'))"
   ]
  },
  {
   "cell_type": "code",
   "execution_count": 44,
   "id": "e7b3fc8a-aac2-42fa-bdb7-e5fa26e427f6",
   "metadata": {},
   "outputs": [
    {
     "ename": "Error",
     "evalue": "Invalid base64-encoded string: number of data characters (1) cannot be 1 more than a multiple of 4",
     "output_type": "error",
     "traceback": [
      "\u001b[0;31m---------------------------------------------------------------------------\u001b[0m",
      "\u001b[0;31mError\u001b[0m                                     Traceback (most recent call last)",
      "Cell \u001b[0;32mIn[44], line 1\u001b[0m\n\u001b[0;32m----> 1\u001b[0m text \u001b[38;5;241m=\u001b[39m \u001b[38;5;124m\"\u001b[39m\u001b[38;5;124m\"\u001b[39m\u001b[38;5;241m.\u001b[39mjoin([base64\u001b[38;5;241m.\u001b[39mb64decode(t) \u001b[38;5;28;01mfor\u001b[39;00m t \u001b[38;5;129;01min\u001b[39;00m text[\u001b[38;5;241m0\u001b[39m:\u001b[38;5;241m2\u001b[39m]])\n",
      "Cell \u001b[0;32mIn[44], line 1\u001b[0m, in \u001b[0;36m<listcomp>\u001b[0;34m(.0)\u001b[0m\n\u001b[0;32m----> 1\u001b[0m text \u001b[38;5;241m=\u001b[39m \u001b[38;5;124m\"\u001b[39m\u001b[38;5;124m\"\u001b[39m\u001b[38;5;241m.\u001b[39mjoin([\u001b[43mbase64\u001b[49m\u001b[38;5;241;43m.\u001b[39;49m\u001b[43mb64decode\u001b[49m\u001b[43m(\u001b[49m\u001b[43mt\u001b[49m\u001b[43m)\u001b[49m \u001b[38;5;28;01mfor\u001b[39;00m t \u001b[38;5;129;01min\u001b[39;00m text[\u001b[38;5;241m0\u001b[39m:\u001b[38;5;241m2\u001b[39m]])\n",
      "File \u001b[0;32m/Library/Developer/CommandLineTools/Library/Frameworks/Python3.framework/Versions/3.9/lib/python3.9/base64.py:87\u001b[0m, in \u001b[0;36mb64decode\u001b[0;34m(s, altchars, validate)\u001b[0m\n\u001b[1;32m     85\u001b[0m \u001b[38;5;28;01mif\u001b[39;00m validate \u001b[38;5;129;01mand\u001b[39;00m \u001b[38;5;129;01mnot\u001b[39;00m re\u001b[38;5;241m.\u001b[39mfullmatch(\u001b[38;5;124mb\u001b[39m\u001b[38;5;124m'\u001b[39m\u001b[38;5;124m[A-Za-z0-9+/]*=\u001b[39m\u001b[38;5;124m{\u001b[39m\u001b[38;5;124m0,2}\u001b[39m\u001b[38;5;124m'\u001b[39m, s):\n\u001b[1;32m     86\u001b[0m     \u001b[38;5;28;01mraise\u001b[39;00m binascii\u001b[38;5;241m.\u001b[39mError(\u001b[38;5;124m'\u001b[39m\u001b[38;5;124mNon-base64 digit found\u001b[39m\u001b[38;5;124m'\u001b[39m)\n\u001b[0;32m---> 87\u001b[0m \u001b[38;5;28;01mreturn\u001b[39;00m \u001b[43mbinascii\u001b[49m\u001b[38;5;241;43m.\u001b[39;49m\u001b[43ma2b_base64\u001b[49m\u001b[43m(\u001b[49m\u001b[43ms\u001b[49m\u001b[43m)\u001b[49m\n",
      "\u001b[0;31mError\u001b[0m: Invalid base64-encoded string: number of data characters (1) cannot be 1 more than a multiple of 4"
     ]
    }
   ],
   "source": [
    "text = \"\".join([base64.b64decode(t) for t in text[0:2]])"
   ]
  },
  {
   "cell_type": "code",
   "execution_count": 46,
   "id": "501f9a25-0e52-4458-93e5-bff52a4c14c7",
   "metadata": {},
   "outputs": [
    {
     "ename": "Error",
     "evalue": "Invalid base64-encoded string: number of data characters (1) cannot be 1 more than a multiple of 4",
     "output_type": "error",
     "traceback": [
      "\u001b[0;31m---------------------------------------------------------------------------\u001b[0m",
      "\u001b[0;31mError\u001b[0m                                     Traceback (most recent call last)",
      "Cell \u001b[0;32mIn[46], line 1\u001b[0m\n\u001b[0;32m----> 1\u001b[0m \u001b[43mbase64\u001b[49m\u001b[38;5;241;43m.\u001b[39;49m\u001b[43mb64decode\u001b[49m\u001b[43m(\u001b[49m\u001b[43mtext\u001b[49m\u001b[43m[\u001b[49m\u001b[38;5;241;43m1\u001b[39;49m\u001b[43m]\u001b[49m\u001b[43m)\u001b[49m\n",
      "File \u001b[0;32m/Library/Developer/CommandLineTools/Library/Frameworks/Python3.framework/Versions/3.9/lib/python3.9/base64.py:87\u001b[0m, in \u001b[0;36mb64decode\u001b[0;34m(s, altchars, validate)\u001b[0m\n\u001b[1;32m     85\u001b[0m \u001b[38;5;28;01mif\u001b[39;00m validate \u001b[38;5;129;01mand\u001b[39;00m \u001b[38;5;129;01mnot\u001b[39;00m re\u001b[38;5;241m.\u001b[39mfullmatch(\u001b[38;5;124mb\u001b[39m\u001b[38;5;124m'\u001b[39m\u001b[38;5;124m[A-Za-z0-9+/]*=\u001b[39m\u001b[38;5;124m{\u001b[39m\u001b[38;5;124m0,2}\u001b[39m\u001b[38;5;124m'\u001b[39m, s):\n\u001b[1;32m     86\u001b[0m     \u001b[38;5;28;01mraise\u001b[39;00m binascii\u001b[38;5;241m.\u001b[39mError(\u001b[38;5;124m'\u001b[39m\u001b[38;5;124mNon-base64 digit found\u001b[39m\u001b[38;5;124m'\u001b[39m)\n\u001b[0;32m---> 87\u001b[0m \u001b[38;5;28;01mreturn\u001b[39;00m \u001b[43mbinascii\u001b[49m\u001b[38;5;241;43m.\u001b[39;49m\u001b[43ma2b_base64\u001b[49m\u001b[43m(\u001b[49m\u001b[43ms\u001b[49m\u001b[43m)\u001b[49m\n",
      "\u001b[0;31mError\u001b[0m: Invalid base64-encoded string: number of data characters (1) cannot be 1 more than a multiple of 4"
     ]
    }
   ],
   "source": [
    "base64.b64decode(text[1])"
   ]
  },
  {
   "cell_type": "code",
   "execution_count": 4,
   "id": "3542a0dc-97f1-49ce-bc5f-8c071183ae4e",
   "metadata": {},
   "outputs": [
    {
     "name": "stdout",
     "output_type": "stream",
     "text": [
      "(cid:0)\n",
      "\n",
      "(cid:0)\n",
      "\n",
      "(cid:0)(cid:0)(cid:0)(cid:0)(cid:0)(cid:0)(cid:0)(cid:0)(cid:0)(cid:0)(cid:0)(cid:0)(cid:0)(cid:0)(cid:0)(cid:0)(cid:0)(cid:0)(cid:0)(cid:0)(cid:0)(cid:0)(cid:0)(cid:0)(cid:0)(cid:0)\n"
     ]
    }
   ],
   "source": [
    "def extract_text_from_pdf(pdf_path):\n",
    "    resource_manager = PDFResourceManager()\n",
    "    output_string = StringIO()\n",
    "    laparams = LAParams()\n",
    "    \n",
    "    device = TextConverter(resource_manager, output_string, laparams=laparams)\n",
    "    interpreter = PDFPageInterpreter(resource_manager, device)\n",
    "    \n",
    "    with open(pdf_path, 'rb') as file:\n",
    "        for page in PDFPage.get_pages(file):\n",
    "            interpreter.process_page(page)\n",
    "    \n",
    "    text = output_string.getvalue()\n",
    "    device.close()\n",
    "    output_string.close()\n",
    "    \n",
    "    return text\n",
    "\n",
    "# Usage\n",
    "text = extract_text_from_pdf(PATH)\n",
    "print(text[0:200])"
   ]
  },
  {
   "cell_type": "code",
   "execution_count": 5,
   "id": "8bfabe1c-12d0-4e9f-8a7a-53056f48aec9",
   "metadata": {},
   "outputs": [
    {
     "name": "stdout",
     "output_type": "stream",
     "text": [
      "[40, 99, 105, 100, 58, 48, 41, 10, 10, 40, 99, 105, 100, 58, 48, 41, 10, 10, 40, 99, 105, 100, 58, 48, 41, 40, 99, 105, 100, 58, 48, 41, 40, 99, 105, 100, 58, 48, 41, 40, 99, 105, 100, 58, 48, 41, 40, 99, 105, 100, 58, 48, 41, 40, 99, 105, 100, 58, 48, 41, 40, 99, 105, 100, 58, 48, 41, 40, 99, 105, 100, 58, 48, 41, 40, 99, 105, 100, 58, 48, 41, 40, 99, 105, 100, 58, 48, 41, 40, 99, 105, 100, 58, 48, 41, 40, 99, 105, 100, 58, 48, 41, 40, 99, 105, 100, 58, 48, 41, 40, 99, 105, 100, 58, 48, 41, 40, 99, 105, 100, 58, 48, 41, 40, 99, 105, 100, 58, 48, 41, 40, 99, 105, 100, 58, 48, 41, 40, 99, 105, 100, 58, 48, 41, 40, 99, 105, 100, 58, 48, 41, 40, 99, 105, 100, 58, 48, 41, 40, 99, 105, 100, 58, 48, 41, 40, 99, 105, 100, 58, 48, 41, 40, 99, 105, 100, 58, 48, 41, 40, 99, 105, 100, 58, 48, 41, 40, 99, 105, 100, 58, 48, 41, 40, 99, 105, 100, 58, 48, 41]\n"
     ]
    }
   ],
   "source": [
    "print([ord(x) for x in text[0:200]])"
   ]
  },
  {
   "cell_type": "code",
   "execution_count": 6,
   "id": "ca4a1f36-ded9-4fab-8056-94348f4c5ebb",
   "metadata": {},
   "outputs": [
    {
     "data": {
      "text/plain": [
       "['__add__',\n",
       " '__class__',\n",
       " '__contains__',\n",
       " '__delattr__',\n",
       " '__dir__',\n",
       " '__doc__',\n",
       " '__eq__',\n",
       " '__format__',\n",
       " '__ge__',\n",
       " '__getattribute__',\n",
       " '__getitem__',\n",
       " '__getnewargs__',\n",
       " '__gt__',\n",
       " '__hash__',\n",
       " '__init__',\n",
       " '__init_subclass__',\n",
       " '__iter__',\n",
       " '__le__',\n",
       " '__len__',\n",
       " '__lt__',\n",
       " '__mod__',\n",
       " '__mul__',\n",
       " '__ne__',\n",
       " '__new__',\n",
       " '__reduce__',\n",
       " '__reduce_ex__',\n",
       " '__repr__',\n",
       " '__rmod__',\n",
       " '__rmul__',\n",
       " '__setattr__',\n",
       " '__sizeof__',\n",
       " '__str__',\n",
       " '__subclasshook__',\n",
       " 'capitalize',\n",
       " 'casefold',\n",
       " 'center',\n",
       " 'count',\n",
       " 'encode',\n",
       " 'endswith',\n",
       " 'expandtabs',\n",
       " 'find',\n",
       " 'format',\n",
       " 'format_map',\n",
       " 'index',\n",
       " 'isalnum',\n",
       " 'isalpha',\n",
       " 'isascii',\n",
       " 'isdecimal',\n",
       " 'isdigit',\n",
       " 'isidentifier',\n",
       " 'islower',\n",
       " 'isnumeric',\n",
       " 'isprintable',\n",
       " 'isspace',\n",
       " 'istitle',\n",
       " 'isupper',\n",
       " 'join',\n",
       " 'ljust',\n",
       " 'lower',\n",
       " 'lstrip',\n",
       " 'maketrans',\n",
       " 'partition',\n",
       " 'removeprefix',\n",
       " 'removesuffix',\n",
       " 'replace',\n",
       " 'rfind',\n",
       " 'rindex',\n",
       " 'rjust',\n",
       " 'rpartition',\n",
       " 'rsplit',\n",
       " 'rstrip',\n",
       " 'split',\n",
       " 'splitlines',\n",
       " 'startswith',\n",
       " 'strip',\n",
       " 'swapcase',\n",
       " 'title',\n",
       " 'translate',\n",
       " 'upper',\n",
       " 'zfill']"
      ]
     },
     "execution_count": 6,
     "metadata": {},
     "output_type": "execute_result"
    }
   ],
   "source": [
    "char = text[0]\n",
    "dir(char)"
   ]
  },
  {
   "cell_type": "code",
   "execution_count": 7,
   "id": "de461eb0-702a-461a-a875-31749821c75f",
   "metadata": {},
   "outputs": [
    {
     "ename": "NameError",
     "evalue": "name 'pdfminer' is not defined",
     "output_type": "error",
     "traceback": [
      "\u001b[0;31m---------------------------------------------------------------------------\u001b[0m",
      "\u001b[0;31mNameError\u001b[0m                                 Traceback (most recent call last)",
      "Cell \u001b[0;32mIn[7], line 1\u001b[0m\n\u001b[0;32m----> 1\u001b[0m text \u001b[38;5;241m=\u001b[39m \u001b[43mpdfminer\u001b[49m\u001b[38;5;241m.\u001b[39mextract_text(PATH)\n\u001b[1;32m      2\u001b[0m \u001b[38;5;28mprint\u001b[39m(text[:\u001b[38;5;241m200\u001b[39m])\n",
      "\u001b[0;31mNameError\u001b[0m: name 'pdfminer' is not defined"
     ]
    }
   ],
   "source": [
    "text = pdfminer.extract_text(PATH)\n",
    "print(text[:200])"
   ]
  },
  {
   "cell_type": "code",
   "execution_count": null,
   "id": "dce999ac-a42d-4e90-8bea-3b478cf304d5",
   "metadata": {},
   "outputs": [],
   "source": [
    "result_pruned = \"\".join([c for c in result if c.isascii()])\n",
    "print(result_pruned)"
   ]
  },
  {
   "cell_type": "code",
   "execution_count": 8,
   "id": "32d085b3-56b6-4230-aa89-e8ee5d06a5f5",
   "metadata": {},
   "outputs": [
    {
     "name": "stdout",
     "output_type": "stream",
     "text": [
      "1.6 {'Author': 'evrt', 'CreationDate': datetime.datetime(2025, 2, 13, 13, 47, 35, tzinfo=tzoffset(None, -28800)), 'Creator': 'PScript5.dll Version 5.2.2', 'ModDate': datetime.datetime(2025, 2, 13, 13, 47, 35, tzinfo=tzoffset(None, -28800)), 'Producer': 'Acrobat Distiller 20.0 (Windows)', 'Title': 'chrome-extension___mhjfbmdgcfjbbpaeojofohoefgiehjai_edge_pdf_index.html'}\n"
     ]
    }
   ],
   "source": [
    "import pdfreader\n",
    "from pdfreader import PDFDocument, SimplePDFViewer\n",
    "\n",
    "with open(PATH, \"rb\") as fd:\n",
    "    doc = PDFDocument(fd)\n",
    "    print(doc.header.version, doc.metadata)\n",
    "    viewer = SimplePDFViewer(fd)\n",
    "    for canvas in viewer:\n",
    "        page_images = canvas.images\n",
    "        page_forms = canvas.forms\n",
    "        page_text = canvas.text_content\n",
    "        page_inline_images = canvas.inline_images\n",
    "        page_strings = canvas.strings\n",
    "    viewer.navigate(1)\n",
    "    viewer.render()\n",
    "    viewer.canvas.strings\n",
    "    with open(\"tutorial-sample-content-stream-p1.txt\", \"w\") as f:\n",
    "        f.write(viewer.canvas.text_content)\n"
   ]
  },
  {
   "cell_type": "markdown",
   "id": "d221df3f-05a1-4b5b-b7ff-aab0d0d9d268",
   "metadata": {},
   "source": [
    "# Tesseract"
   ]
  },
  {
   "cell_type": "markdown",
   "id": "7571bd4b-259d-4416-b1d7-fc177dca2aed",
   "metadata": {},
   "source": [
    "## Convert PDF to Image"
   ]
  },
  {
   "cell_type": "code",
   "execution_count": 5,
   "id": "64f326e7-3e4d-4f73-9835-da94dc78c7dd",
   "metadata": {},
   "outputs": [],
   "source": [
    "import pdf2image\n",
    "from pdf2image import convert_from_path\n",
    "pages = convert_from_path(PATH, 5)"
   ]
  },
  {
   "cell_type": "code",
   "execution_count": 7,
   "id": "f47dc8ac-dd32-48cb-92d8-ecaf255f47bc",
   "metadata": {},
   "outputs": [
    {
     "data": {
      "text/plain": [
       "42"
      ]
     },
     "execution_count": 7,
     "metadata": {},
     "output_type": "execute_result"
    }
   ],
   "source": [
    "len(pages)"
   ]
  },
  {
   "cell_type": "code",
   "execution_count": 8,
   "id": "3b42b621-c7e6-42e3-8bca-cf857b8150b5",
   "metadata": {},
   "outputs": [],
   "source": [
    "for count, page in enumerate(pages):\n",
    "    page.save(f'out{count}.jpg', 'JPEG')"
   ]
  }
 ],
 "metadata": {
  "kernelspec": {
   "display_name": "Python 3 (ipykernel)",
   "language": "python",
   "name": "python3"
  },
  "language_info": {
   "codemirror_mode": {
    "name": "ipython",
    "version": 3
   },
   "file_extension": ".py",
   "mimetype": "text/x-python",
   "name": "python",
   "nbconvert_exporter": "python",
   "pygments_lexer": "ipython3",
   "version": "3.9.6"
  }
 },
 "nbformat": 4,
 "nbformat_minor": 5
}
